{
  "cells": [
    {
      "cell_type": "markdown",
      "metadata": {
        "id": "4WaoEOp0KkSp"
      },
      "source": [
        "![HenryLogo](https://d31uz8lwfmyn8g.cloudfront.net/Assets/logo-henry-white-lg.png)\n",
        "\n",
        "# **Proyecto integrador**\n",
        "\n",
        "### 2. Preparación de datos\n",
        "\n",
        "Una vez entendido el contexto de la problemática y realizado el análisis exploratorio de datos de acuerdo con la descripción del dataset y la información entregada al equipo en la fase anterior, se comparte un paso a paso que deberá ser diligenciado por el equipo de ciencia de datos asignado para esta tarea con el fin de guiar el proceso de EDA y preparación de datos, lo cual es crucial antes de desarollar el modelamiento. \n",
        "\n",
        "El estudio tiene como objetivo la clasificación de un paciente como hospitalizado o no hospitalizado.\n",
        "\n",
        "\n"
      ]
    },
    {
      "cell_type": "markdown",
      "metadata": {
        "id": "E22GkymtLevx"
      },
      "source": [
        "Carguen la base de datos y revisen el tipo de cada columna del dataset. Si es necesario realicen conversiones de tipos de datos. "
      ]
    },
    {
      "cell_type": "code",
      "execution_count": 20,
      "metadata": {
        "id": "dlRCMYtGLqDJ"
      },
      "outputs": [
        {
          "name": "stdout",
          "output_type": "stream",
          "text": [
            "     EDAD DIABETES HOSPITALIZACIÓN ULTIMO MES    PSA BIOPSIAS PREVIAS  \\\n",
            "0      53       NO                         NO   4.00               NO   \n",
            "1      56       NO                         NO   7.70               NO   \n",
            "2      57       NO                         NO  29.00               SI   \n",
            "3      56       NO                         NO   7.00               NO   \n",
            "4      55       NO                         NO  29.00               SI   \n",
            "..    ...      ...                        ...    ...              ...   \n",
            "563    67       NO                         NO   6.00               NO   \n",
            "564    64       NO                         NO   4.80               NO   \n",
            "565    69       NO                         NO   4.43              NaN   \n",
            "566    67       NO                         NO   8.00               NO   \n",
            "567    59       NO                         NO   9.00               SI   \n",
            "\n",
            "    VOLUMEN PROSTATICO ANTIBIOTICO UTILIAZADO EN LA PROFILAXIS  \\\n",
            "0                   SI          FLUOROQUINOLONA_AMINOGLICOSIDO   \n",
            "1                   SI          FLUOROQUINOLONA_AMINOGLICOSIDO   \n",
            "2                   SI          FLUOROQUINOLONA_AMINOGLICOSIDO   \n",
            "3                   SI          FLUOROQUINOLONA_AMINOGLICOSIDO   \n",
            "4                   SI          FLUOROQUINOLONA_AMINOGLICOSIDO   \n",
            "..                 ...                                     ...   \n",
            "563                 SI          FLUOROQUINOLONA_AMINOGLICOSIDO   \n",
            "564                 SI                                   OTROS   \n",
            "565                NaN          FLUOROQUINOLONA_AMINOGLICOSIDO   \n",
            "566                 SI          FLUOROQUINOLONA_AMINOGLICOSIDO   \n",
            "567                 SI          FLUOROQUINOLONA_AMINOGLICOSIDO   \n",
            "\n",
            "     NUMERO DE MUESTRAS TOMADAS  CUP ENF. CRONICA PULMONAR OBSTRUCTIVA  \\\n",
            "0                            12   NO                                NO   \n",
            "1                            12   NO                                NO   \n",
            "2                            24   NO                                NO   \n",
            "3                            12   NO                                NO   \n",
            "4                            24   NO                                NO   \n",
            "..                          ...  ...                               ...   \n",
            "563                          12   NO                                NO   \n",
            "564                          12   NO                                NO   \n",
            "565                          20  NaN                                NO   \n",
            "566                          12   NO                               NaN   \n",
            "567                          12   NO                               NaN   \n",
            "\n",
            "                       BIOPSIA  \\\n",
            "0                          NEG   \n",
            "1                          NEG   \n",
            "2                          NEG   \n",
            "3                          NEG   \n",
            "4                          NEG   \n",
            "..                         ...   \n",
            "563   ADENOCARCINOMA GLEASON 6   \n",
            "564  ADENOCARCINOMA GLEASON 7    \n",
            "565                        NEG   \n",
            "566  ADENOCARCINOMA GLEASON 7    \n",
            "567                        NEG   \n",
            "\n",
            "    NUMERO DE DIAS POST BIOPSIA EN QUE SE PRESENTA LA COMPLICACIÓN INFECCIOSA  \\\n",
            "0                                                    1                          \n",
            "1                                                    1                          \n",
            "2                                                    1                          \n",
            "3                                                    1                          \n",
            "4                                                    1                          \n",
            "..                                                 ...                          \n",
            "563                                                 NO                          \n",
            "564                                                 NO                          \n",
            "565                                                 NO                          \n",
            "566                                                 NO                          \n",
            "567                                                 NO                          \n",
            "\n",
            "    FIEBRE ITU TIPO DE CULTIVO AGENTE AISLADO  \\\n",
            "0       SI  NO              NO             NO   \n",
            "1       SI  NO              NO             NO   \n",
            "2       SI  NO     HEMOCULTIVO         E.COLI   \n",
            "3       SI  NO              NO             NO   \n",
            "4       SI  NO     HEMOCULTIVO         E.COLI   \n",
            "..     ...  ..             ...            ...   \n",
            "563     NO  NO              NO             NO   \n",
            "564     NO  NO              NO             NO   \n",
            "565     NO  NO              NO             NO   \n",
            "566     NO  NO              NO            NaN   \n",
            "567     NO  NO              NO             NO   \n",
            "\n",
            "                    PATRON DE RESISTENCIA HOSPITALIZACION  \\\n",
            "0                                      NO              SI   \n",
            "1                                      NO              SI   \n",
            "2     AMPI R, CIPRO R, GENTA R, SULFA M R              SI   \n",
            "3                                      NO              SI   \n",
            "4                                      NO              SI   \n",
            "..                                    ...             ...   \n",
            "563                                    NO              NO   \n",
            "564                                    NO              NO   \n",
            "565                                    NO              NO   \n",
            "566                                    NO              NO   \n",
            "567                                    NO              NO   \n",
            "\n",
            "     DIAS HOSPITALIZACION MQ  DIAS HOSPITALIZACIÓN UPC  \n",
            "0                          2                         0  \n",
            "1                          5                         0  \n",
            "2                          4                         3  \n",
            "3                          5                         0  \n",
            "4                          4                         3  \n",
            "..                       ...                       ...  \n",
            "563                        0                         0  \n",
            "564                        0                         0  \n",
            "565                        0                         0  \n",
            "566                        0                         0  \n",
            "567                        0                         0  \n",
            "\n",
            "[568 rows x 20 columns]\n"
          ]
        }
      ],
      "source": [
        "import pandas as pd\n",
        "import xml\n",
        "import numpy as np\n",
        "hospitalizados = pd.read_excel('./BBDD_Hospitalización.xlsx')\n",
        "print(hospitalizados)"
      ]
    },
    {
      "cell_type": "code",
      "execution_count": 21,
      "metadata": {},
      "outputs": [
        {
          "name": "stdout",
          "output_type": "stream",
          "text": [
            "Index(['EDAD', 'DIABETES', 'HOSPITALIZACIÓN ULTIMO MES', 'PSA',\n",
            "       'BIOPSIAS PREVIAS', 'VOLUMEN PROSTATICO',\n",
            "       'ANTIBIOTICO UTILIAZADO EN LA PROFILAXIS', 'NUMERO DE MUESTRAS TOMADAS',\n",
            "       'CUP', 'ENF. CRONICA PULMONAR OBSTRUCTIVA', 'BIOPSIA',\n",
            "       'NUMERO DE DIAS POST BIOPSIA EN QUE SE PRESENTA LA COMPLICACIÓN INFECCIOSA',\n",
            "       'FIEBRE', 'ITU', 'TIPO DE CULTIVO', 'AGENTE AISLADO',\n",
            "       'PATRON DE RESISTENCIA', 'HOSPITALIZACION', 'DIAS HOSPITALIZACION MQ',\n",
            "       'DIAS HOSPITALIZACIÓN UPC'],\n",
            "      dtype='object')\n",
            "EDAD                                                                           int64\n",
            "DIABETES                                                                      object\n",
            "HOSPITALIZACIÓN ULTIMO MES                                                    object\n",
            "PSA                                                                          float64\n",
            "BIOPSIAS PREVIAS                                                              object\n",
            "VOLUMEN PROSTATICO                                                            object\n",
            "ANTIBIOTICO UTILIAZADO EN LA PROFILAXIS                                       object\n",
            "NUMERO DE MUESTRAS TOMADAS                                                     int64\n",
            "CUP                                                                           object\n",
            "ENF. CRONICA PULMONAR OBSTRUCTIVA                                             object\n",
            "BIOPSIA                                                                       object\n",
            "NUMERO DE DIAS POST BIOPSIA EN QUE SE PRESENTA LA COMPLICACIÓN INFECCIOSA     object\n",
            "FIEBRE                                                                        object\n",
            "ITU                                                                           object\n",
            "TIPO DE CULTIVO                                                               object\n",
            "AGENTE AISLADO                                                                object\n",
            "PATRON DE RESISTENCIA                                                         object\n",
            "HOSPITALIZACION                                                               object\n",
            "DIAS HOSPITALIZACION MQ                                                        int64\n",
            "DIAS HOSPITALIZACIÓN UPC                                                       int64\n",
            "dtype: object\n"
          ]
        }
      ],
      "source": [
        "print(hospitalizados.columns)\n",
        "print(hospitalizados.dtypes)"
      ]
    },
    {
      "cell_type": "code",
      "execution_count": 24,
      "metadata": {},
      "outputs": [
        {
          "data": {
            "text/plain": [
              "np.float64(9.0)"
            ]
          },
          "execution_count": 24,
          "metadata": {},
          "output_type": "execute_result"
        }
      ],
      "source": [
        "hospitalizados['NUMERO DE DIAS POST BIOPSIA EN QUE SE PRESENTA LA COMPLICACIÓN INFECCIOSA'] = hospitalizados['NUMERO DE DIAS POST BIOPSIA EN QUE SE PRESENTA LA COMPLICACIÓN INFECCIOSA'].replace('NO', np.nan)\n",
        "hospitalizados['NUMERO DE DIAS POST BIOPSIA EN QUE SE PRESENTA LA COMPLICACIÓN INFECCIOSA'] = hospitalizados['NUMERO DE DIAS POST BIOPSIA EN QUE SE PRESENTA LA COMPLICACIÓN INFECCIOSA'].astype('float')\n",
        "hospitalizados['NUMERO DE DIAS POST BIOPSIA EN QUE SE PRESENTA LA COMPLICACIÓN INFECCIOSA'].max()"
      ]
    },
    {
      "cell_type": "markdown",
      "metadata": {
        "id": "X33Od3Y_Lrye"
      },
      "source": [
        "Eliminen variables si es que consideran irrelevantes, sustentando adecuadamente por qué."
      ]
    },
    {
      "cell_type": "code",
      "execution_count": 6,
      "metadata": {
        "id": "Zjq3g_zkMUT5"
      },
      "outputs": [
        {
          "data": {
            "text/plain": [
              "0       1\n",
              "1       1\n",
              "2       1\n",
              "3       1\n",
              "4       1\n",
              "       ..\n",
              "563    NO\n",
              "564    NO\n",
              "565    NO\n",
              "566    NO\n",
              "567    NO\n",
              "Name: NUMERO DE DIAS POST BIOPSIA EN QUE SE PRESENTA LA COMPLICACIÓN INFECCIOSA, Length: 568, dtype: object"
            ]
          },
          "execution_count": 6,
          "metadata": {},
          "output_type": "execute_result"
        }
      ],
      "source": [
        "hospitalizados.drop('NUMERO DE DIAS POST BIOPSIA EN QUE SE PRESENTA LA COMPLICACIÓN INFECCIOSA','DIAS HOSPITALIZACION MQ','DIAS HOSPITALIZACIÓN UPC')"
      ]
    },
    {
      "cell_type": "markdown",
      "metadata": {
        "id": "mTV2RdmbMoRE"
      },
      "source": [
        "Revisen la distribución estadística para el caso de las variables numéricas. ¿Qué gráficos permiten realizar un estudio exploratorio de la distribución? ¿Hay datos atípicos?"
      ]
    },
    {
      "cell_type": "code",
      "execution_count": null,
      "metadata": {
        "id": "ILzt6oOaM1ag"
      },
      "outputs": [],
      "source": []
    },
    {
      "cell_type": "markdown",
      "metadata": {
        "id": "zyQIaY1bM12g"
      },
      "source": [
        "Si encontraron datos atípicos, ¿Imputarán o eliminarán los valores? Sustentar."
      ]
    },
    {
      "cell_type": "code",
      "execution_count": null,
      "metadata": {
        "id": "HO3Db1YQM9JS"
      },
      "outputs": [],
      "source": []
    },
    {
      "cell_type": "markdown",
      "metadata": {
        "id": "HAZhxOMyNFON"
      },
      "source": [
        "Para las variables categóricas, realizar una visualización adecuada para observar las frecuencias de cada categoría. ¿Observa alguna anomalía, problema de formato en alguna variable?"
      ]
    },
    {
      "cell_type": "code",
      "execution_count": null,
      "metadata": {
        "id": "_GpXEa1oNQfG"
      },
      "outputs": [],
      "source": []
    },
    {
      "cell_type": "markdown",
      "metadata": {
        "id": "CmRUpq9FMcsi"
      },
      "source": [
        "Revisen la cantidad de nulos que tiene cada columna. ¿Es necesario eliminar alguna columna? ¿Se imputarán valores? En caso de imputar, explicar en cada caso, por medio de qué estrategia lo harán. "
      ]
    },
    {
      "cell_type": "code",
      "execution_count": null,
      "metadata": {
        "id": "xSSe-ZHpMmdz"
      },
      "outputs": [],
      "source": []
    },
    {
      "cell_type": "markdown",
      "metadata": {
        "id": "b_u-bC8FNTkT"
      },
      "source": [
        "Para el caso de las variables numéricas, ¿Es necesario normalizar?"
      ]
    },
    {
      "cell_type": "code",
      "execution_count": null,
      "metadata": {
        "id": "I9w7a6dXNYPz"
      },
      "outputs": [],
      "source": []
    },
    {
      "cell_type": "markdown",
      "metadata": {
        "id": "EiqnqbBuNmmW"
      },
      "source": [
        "Realice las transformaciones que considere pertinentes con el fin de preparar los datos para un modelo de clasificación de un paciente con desenlace en Hospitalización. "
      ]
    },
    {
      "cell_type": "code",
      "execution_count": null,
      "metadata": {
        "id": "m_n9Yfg0NmTP"
      },
      "outputs": [],
      "source": []
    },
    {
      "cell_type": "markdown",
      "metadata": {
        "id": "_xXX6APsNjkV"
      },
      "source": [
        "Realice una matriz de correlación con el fin de determinar si hay variables redundantes. En caso de encontrar altas correlaciones, ¿Tomará alguna acción?"
      ]
    },
    {
      "cell_type": "code",
      "execution_count": null,
      "metadata": {
        "id": "paHDdRnYN_Gl"
      },
      "outputs": [],
      "source": []
    },
    {
      "cell_type": "markdown",
      "metadata": {
        "id": "P2oE3VuBN_d6"
      },
      "source": [
        "Exporte la base de datos preparada en un archivo .csv para el modelamiento. "
      ]
    },
    {
      "cell_type": "code",
      "execution_count": null,
      "metadata": {
        "id": "SzPhC-FROFGt"
      },
      "outputs": [],
      "source": []
    }
  ],
  "metadata": {
    "colab": {
      "provenance": []
    },
    "kernelspec": {
      "display_name": "Python 3",
      "language": "python",
      "name": "python3"
    },
    "language_info": {
      "codemirror_mode": {
        "name": "ipython",
        "version": 3
      },
      "file_extension": ".py",
      "mimetype": "text/x-python",
      "name": "python",
      "nbconvert_exporter": "python",
      "pygments_lexer": "ipython3",
      "version": "3.12.2"
    },
    "orig_nbformat": 4,
    "vscode": {
      "interpreter": {
        "hash": "ae0e7af47f894f9476ada5eb18ddb08363018cc3b7dc70bce08ae16d38df8604"
      }
    }
  },
  "nbformat": 4,
  "nbformat_minor": 0
}
